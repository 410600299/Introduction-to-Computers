{
  "nbformat": 4,
  "nbformat_minor": 0,
  "metadata": {
    "colab": {
      "name": "0509.ipynb",
      "provenance": [],
      "authorship_tag": "ABX9TyNc3vzFZ3DFPtzh5S/iL1de",
      "include_colab_link": true
    },
    "kernelspec": {
      "name": "python3",
      "display_name": "Python 3"
    },
    "language_info": {
      "name": "python"
    }
  },
  "cells": [
    {
      "cell_type": "markdown",
      "metadata": {
        "id": "view-in-github",
        "colab_type": "text"
      },
      "source": [
        "<a href=\"https://colab.research.google.com/github/410600299/Introduction-to-Computers/blob/main/0509.ipynb\" target=\"_parent\"><img src=\"https://colab.research.google.com/assets/colab-badge.svg\" alt=\"Open In Colab\"/></a>"
      ]
    },
    {
      "cell_type": "code",
      "source": [
        "temp = float(input('請輸入你的體溫:'))\n",
        "if(temp >= 37.5):\n",
        "  print('體溫過高!')\n",
        "elif (temp >= 37 and temp < 37.4):\n",
        "  print('體溫略高!')\n",
        "elif (temp <= 36.9 and temp >= 34):\n",
        "  print('體溫正常!')\n",
        "else:\n",
        "  print('體溫異常，請重新量測!')"
      ],
      "metadata": {
        "colab": {
          "base_uri": "https://localhost:8080/"
        },
        "id": "DYEb1Zqp79QS",
        "outputId": "2a85cc5d-c262-4632-a65f-21f8387b3c2d"
      },
      "execution_count": 7,
      "outputs": [
        {
          "output_type": "stream",
          "name": "stdout",
          "text": [
            "請輸入你的體溫:33.9\n",
            "體溫異常，請重新量測!\n"
          ]
        }
      ]
    },
    {
      "cell_type": "code",
      "source": [
        "score = int(input('請輸入成績:'))\n",
        "if(score >= 90):\n",
        "  print('A')\n",
        "elif(score >= 80 and score <= 89):\n",
        "  print('B')\n",
        "elif(score >= 70 and score <= 79):\n",
        "  print('C')\n",
        "elif(score >= 60 and score <= 69):\n",
        "  print('D')\n",
        "else:\n",
        "  print('E')"
      ],
      "metadata": {
        "colab": {
          "base_uri": "https://localhost:8080/"
        },
        "id": "WzsGwo1b_h1b",
        "outputId": "b2217d64-73e9-4430-df43-ab84b3927408"
      },
      "execution_count": 17,
      "outputs": [
        {
          "output_type": "stream",
          "name": "stdout",
          "text": [
            "請輸入成績:90\n",
            "A\n"
          ]
        }
      ]
    },
    {
      "cell_type": "code",
      "source": [
        "money = int(input('請輸入購物金額:'))\n",
        "if(money >= 10000):\n",
        "  if(money >= 100000):\n",
        "    print('八折',money*0.8, end = \"元\\n\")\n",
        "  elif(money >= 50000):\n",
        "    print('八五折',money*0.85, end = \"元\\n\")\n",
        "  elif(money >= 30000):\n",
        "    print('九折',money*0.9, end = \"元\\n\")\n",
        "  else:\n",
        "    print('九五折',money*0.95, end = \"元\\n\")\n",
        "else:\n",
        "  print('沒打折',money, end = \"元\\n\")"
      ],
      "metadata": {
        "colab": {
          "base_uri": "https://localhost:8080/"
        },
        "id": "r1IXCr9rEte7",
        "outputId": "93f8e9f4-63bc-4245-cb1f-c4fd62e8028a"
      },
      "execution_count": 20,
      "outputs": [
        {
          "output_type": "stream",
          "name": "stdout",
          "text": [
            "請輸入購物金額:65000\n",
            "八五折 55250.0元\n"
          ]
        }
      ]
    },
    {
      "cell_type": "code",
      "source": [
        "month = int(input('請輸入月份:'))\n",
        "if(month >= 3 and month <= 5):\n",
        "  print(month,'月是春天!')\n",
        "elif(month >= 6 and month <= 8):\n",
        "  print(month,'月是夏天!')\n",
        "elif(month >= 9 and month <= 11):\n",
        "  print(month,'月是秋天!')\n",
        "elif(month == 1 or month == 2 or month == 12):\n",
        "  print(month,'月是冬天!')\n",
        "else:\n",
        "  print('月份不再範圍內!')"
      ],
      "metadata": {
        "colab": {
          "base_uri": "https://localhost:8080/"
        },
        "id": "i-zxaDY0IO4x",
        "outputId": "b9e9864c-c05a-43af-cb1f-56f896ea2f9d"
      },
      "execution_count": 35,
      "outputs": [
        {
          "output_type": "stream",
          "name": "stdout",
          "text": [
            "請輸入月份:12\n",
            "12 月是冬天!\n"
          ]
        }
      ]
    },
    {
      "cell_type": "code",
      "source": [
        "revenue = int(input('請輸入今年收入金額:'))\n",
        "if(revenue >= 2000000):\n",
        "  print('付稅金額:', revenue*0.3, end ='元\\n')\n",
        "elif(revenue >= 1000000):\n",
        "  print('付稅金額:', revenue*0.21, end ='元\\n')\n",
        "elif(revenue >= 600000):\n",
        "  print('付稅金額:', revenue*0.13, end ='元\\n')\n",
        "elif(revenue >= 3000000):\n",
        "  print('付稅金額:', revenue*0.06, end ='元\\n')\n",
        "else:\n",
        "  print('付稅金額:','0', end = '元\\n')"
      ],
      "metadata": {
        "colab": {
          "base_uri": "https://localhost:8080/"
        },
        "id": "5-iFeWlWLOPa",
        "outputId": "be8187c6-d682-4df8-ce03-841f6e7e0c1f"
      },
      "execution_count": 46,
      "outputs": [
        {
          "output_type": "stream",
          "name": "stdout",
          "text": [
            "請輸入今年收入金額:2000000\n",
            "付稅金額: 600000.0元\n"
          ]
        }
      ]
    }
  ]
}