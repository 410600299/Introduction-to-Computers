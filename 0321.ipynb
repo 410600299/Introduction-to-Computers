{
  "nbformat": 4,
  "nbformat_minor": 0,
  "metadata": {
    "colab": {
      "name": "0321.ipynb",
      "provenance": [],
      "authorship_tag": "ABX9TyPJx7h8+Ylrdmqsu/+FSAyn",
      "include_colab_link": true
    },
    "kernelspec": {
      "name": "python3",
      "display_name": "Python 3"
    },
    "language_info": {
      "name": "python"
    }
  },
  "cells": [
    {
      "cell_type": "markdown",
      "metadata": {
        "id": "view-in-github",
        "colab_type": "text"
      },
      "source": [
        "<a href=\"https://colab.research.google.com/github/410600299/Introduction-to-Computers/blob/main/0321.ipynb\" target=\"_parent\"><img src=\"https://colab.research.google.com/assets/colab-badge.svg\" alt=\"Open In Colab\"/></a>"
      ]
    },
    {
      "cell_type": "code",
      "execution_count": 1,
      "metadata": {
        "colab": {
          "base_uri": "https://localhost:8080/"
        },
        "id": "rLWT2oV_je5G",
        "outputId": "c683b889-ec8a-48f3-cd5f-e83378ce0a9a"
      },
      "outputs": [
        {
          "output_type": "stream",
          "name": "stdout",
          "text": [
            "123\n"
          ]
        }
      ],
      "source": [
        "print(\"123\")"
      ]
    },
    {
      "cell_type": "code",
      "source": [
        "num1 = 1 + 1.1"
      ],
      "metadata": {
        "id": "NdqJE6L6j5My"
      },
      "execution_count": 2,
      "outputs": []
    },
    {
      "cell_type": "code",
      "source": [
        "num1"
      ],
      "metadata": {
        "colab": {
          "base_uri": "https://localhost:8080/"
        },
        "id": "ZTZeNin3kL1F",
        "outputId": "38240085-7bee-4d35-9f7a-ccebd605f6cb"
      },
      "execution_count": 3,
      "outputs": [
        {
          "output_type": "execute_result",
          "data": {
            "text/plain": [
              "2.1"
            ]
          },
          "metadata": {},
          "execution_count": 3
        }
      ]
    },
    {
      "cell_type": "code",
      "source": [
        "int(num1)"
      ],
      "metadata": {
        "colab": {
          "base_uri": "https://localhost:8080/"
        },
        "id": "IuF4dEl3kP9d",
        "outputId": "909c9438-1243-4743-ef18-30b501d5cdb1"
      },
      "execution_count": 4,
      "outputs": [
        {
          "output_type": "execute_result",
          "data": {
            "text/plain": [
              "2"
            ]
          },
          "metadata": {},
          "execution_count": 4
        }
      ]
    },
    {
      "cell_type": "code",
      "source": [
        "str(num1)"
      ],
      "metadata": {
        "colab": {
          "base_uri": "https://localhost:8080/",
          "height": 35
        },
        "id": "yJY4a-X8kZWt",
        "outputId": "6ffef23a-075d-4302-89fb-8efe13391afc"
      },
      "execution_count": 5,
      "outputs": [
        {
          "output_type": "execute_result",
          "data": {
            "text/plain": [
              "'2.1'"
            ],
            "application/vnd.google.colaboratory.intrinsic+json": {
              "type": "string"
            }
          },
          "metadata": {},
          "execution_count": 5
        }
      ]
    },
    {
      "cell_type": "code",
      "source": [
        "num2 = 2"
      ],
      "metadata": {
        "id": "_EnYFgRykfRr"
      },
      "execution_count": 6,
      "outputs": []
    },
    {
      "cell_type": "code",
      "source": [
        "num2"
      ],
      "metadata": {
        "colab": {
          "base_uri": "https://localhost:8080/"
        },
        "id": "pA8QGF8ski55",
        "outputId": "3c0b4eba-3512-42b1-da8c-2e1dca32cd4e"
      },
      "execution_count": 7,
      "outputs": [
        {
          "output_type": "execute_result",
          "data": {
            "text/plain": [
              "2"
            ]
          },
          "metadata": {},
          "execution_count": 7
        }
      ]
    },
    {
      "cell_type": "code",
      "source": [
        "float(num2)"
      ],
      "metadata": {
        "colab": {
          "base_uri": "https://localhost:8080/"
        },
        "id": "-gim8kSMklkI",
        "outputId": "9eb53a68-e1bf-4044-a24c-0ad6bf4ea710"
      },
      "execution_count": 8,
      "outputs": [
        {
          "output_type": "execute_result",
          "data": {
            "text/plain": [
              "2.0"
            ]
          },
          "metadata": {},
          "execution_count": 8
        }
      ]
    },
    {
      "cell_type": "code",
      "source": [
        "print(type(num1))"
      ],
      "metadata": {
        "colab": {
          "base_uri": "https://localhost:8080/"
        },
        "id": "XkXFQ1w7kz5H",
        "outputId": "7d912478-36e4-472a-e6d1-e4629c32315a"
      },
      "execution_count": 9,
      "outputs": [
        {
          "output_type": "stream",
          "name": "stdout",
          "text": [
            "<class 'float'>\n"
          ]
        }
      ]
    },
    {
      "cell_type": "code",
      "source": [
        "print(type(num2))"
      ],
      "metadata": {
        "colab": {
          "base_uri": "https://localhost:8080/"
        },
        "id": "IsFt0nPxk_5_",
        "outputId": "5341fa0b-98e8-4f11-e983-3fdb6568fa05"
      },
      "execution_count": 10,
      "outputs": [
        {
          "output_type": "stream",
          "name": "stdout",
          "text": [
            "<class 'int'>\n"
          ]
        }
      ]
    },
    {
      "cell_type": "code",
      "source": [
        "a = 1\n",
        "b = 2\n",
        "c = 3"
      ],
      "metadata": {
        "id": "WsyEssP2lrLj"
      },
      "execution_count": 11,
      "outputs": []
    },
    {
      "cell_type": "code",
      "source": [
        "print(a,b,c)"
      ],
      "metadata": {
        "colab": {
          "base_uri": "https://localhost:8080/"
        },
        "id": "F1Cj8QQNl-4e",
        "outputId": "a4c5fde6-f5d4-419b-90f8-7a19b758e796"
      },
      "execution_count": 12,
      "outputs": [
        {
          "output_type": "stream",
          "name": "stdout",
          "text": [
            "1 2 3\n"
          ]
        }
      ]
    },
    {
      "cell_type": "code",
      "source": [
        "print([a,b,c])"
      ],
      "metadata": {
        "colab": {
          "base_uri": "https://localhost:8080/"
        },
        "id": "6B4E2Ta-mFDy",
        "outputId": "b0f53d56-9a0f-4bca-d580-47eb2cda332b"
      },
      "execution_count": 13,
      "outputs": [
        {
          "output_type": "stream",
          "name": "stdout",
          "text": [
            "[1, 2, 3]\n"
          ]
        }
      ]
    },
    {
      "cell_type": "code",
      "source": [
        "print(a,[b,c])"
      ],
      "metadata": {
        "colab": {
          "base_uri": "https://localhost:8080/"
        },
        "id": "ujxj7u_bmMGj",
        "outputId": "0d46694b-3fb9-40d3-a19b-ceb48e9c5f8a"
      },
      "execution_count": 14,
      "outputs": [
        {
          "output_type": "stream",
          "name": "stdout",
          "text": [
            "1 [2, 3]\n"
          ]
        }
      ]
    },
    {
      "cell_type": "code",
      "source": [
        "print('hey','hi','hello')\n",
        "print('hey','hi','hello',sep='ˍ')\n",
        "print('hey','hi','hello',sep='\\t')\n",
        "print('hey','hi','hello',sep='\\n')"
      ],
      "metadata": {
        "colab": {
          "base_uri": "https://localhost:8080/"
        },
        "id": "nG3UNx1RmWcR",
        "outputId": "fa0240cb-98b2-469c-81a8-752999f56c2c"
      },
      "execution_count": 16,
      "outputs": [
        {
          "output_type": "stream",
          "name": "stdout",
          "text": [
            "hey hi hello\n",
            "heyˍhiˍhello\n",
            "hey\thi\thello\n",
            "hey\n",
            "hi\n",
            "hello\n"
          ]
        }
      ]
    },
    {
      "cell_type": "code",
      "source": [
        "print('午安,')\n",
        "print('同學好!')\n",
        "print('打起精神來!!')"
      ],
      "metadata": {
        "colab": {
          "base_uri": "https://localhost:8080/"
        },
        "id": "Kikth1-Ymmoc",
        "outputId": "8c3db426-4f5a-42e5-df40-25d0adae8077"
      },
      "execution_count": 17,
      "outputs": [
        {
          "output_type": "stream",
          "name": "stdout",
          "text": [
            "午安,\n",
            "同學好!\n",
            "打起精神來!!\n"
          ]
        }
      ]
    },
    {
      "cell_type": "code",
      "source": [
        "print('午安,','同學好!','打起精神來!!',sep='\\n')"
      ],
      "metadata": {
        "colab": {
          "base_uri": "https://localhost:8080/"
        },
        "id": "E-J1069Zouix",
        "outputId": "8ec0dae1-1f9d-43aa-a44c-19f3402fbfd8"
      },
      "execution_count": 18,
      "outputs": [
        {
          "output_type": "stream",
          "name": "stdout",
          "text": [
            "午安,\n",
            "同學好!\n",
            "打起精神來!!\n"
          ]
        }
      ]
    },
    {
      "cell_type": "code",
      "source": [
        "print(123)\n",
        "print(456)"
      ],
      "metadata": {
        "colab": {
          "base_uri": "https://localhost:8080/"
        },
        "id": "lxfIcy1lpRml",
        "outputId": "cf0621e7-994b-4dec-8c75-9e656a5b5b2f"
      },
      "execution_count": 19,
      "outputs": [
        {
          "output_type": "stream",
          "name": "stdout",
          "text": [
            "123\n",
            "456\n"
          ]
        }
      ]
    },
    {
      "cell_type": "code",
      "source": [
        "print(123,end=',')\n",
        "print(456)"
      ],
      "metadata": {
        "colab": {
          "base_uri": "https://localhost:8080/"
        },
        "id": "_fE9zeO6pcBW",
        "outputId": "aa79e024-8223-4f42-c86e-8704ebf5b1c8"
      },
      "execution_count": 20,
      "outputs": [
        {
          "output_type": "stream",
          "name": "stdout",
          "text": [
            "123,456\n"
          ]
        }
      ]
    },
    {
      "cell_type": "code",
      "source": [
        "print(123,end='')\n",
        "print(456)"
      ],
      "metadata": {
        "colab": {
          "base_uri": "https://localhost:8080/"
        },
        "id": "r79CuorZppbN",
        "outputId": "d2baeff1-eb33-421f-cfbc-207a701612c4"
      },
      "execution_count": 21,
      "outputs": [
        {
          "output_type": "stream",
          "name": "stdout",
          "text": [
            "123456\n"
          ]
        }
      ]
    },
    {
      "cell_type": "code",
      "source": [
        "print('午安','同學好','打起精神來',sep='ˍ',end='!!!')"
      ],
      "metadata": {
        "colab": {
          "base_uri": "https://localhost:8080/"
        },
        "id": "rkwAt4eOqZtz",
        "outputId": "9ce832b6-beb4-472a-bc4e-a8287124d10d"
      },
      "execution_count": 24,
      "outputs": [
        {
          "output_type": "stream",
          "name": "stdout",
          "text": [
            "午安ˍ同學好ˍ打起精神來!!!"
          ]
        }
      ]
    },
    {
      "cell_type": "code",
      "source": [
        "print('下午好','平安順心','健康如意',sep=',',end='^^')"
      ],
      "metadata": {
        "colab": {
          "base_uri": "https://localhost:8080/"
        },
        "id": "B80lz8MprLp8",
        "outputId": "45553ee8-d32d-4fa2-d8ca-f7b64d4cc32a"
      },
      "execution_count": 25,
      "outputs": [
        {
          "output_type": "stream",
          "name": "stdout",
          "text": [
            "下午好,平安順心,健康如意^^"
          ]
        }
      ]
    },
    {
      "cell_type": "code",
      "source": [
        "test1 = input('輸入')"
      ],
      "metadata": {
        "colab": {
          "base_uri": "https://localhost:8080/"
        },
        "id": "ij1EAM8MvHwr",
        "outputId": "2f8b6b1e-e439-42bd-e706-1b222ee9b04a"
      },
      "execution_count": 27,
      "outputs": [
        {
          "name": "stdout",
          "output_type": "stream",
          "text": [
            "輸入123\n"
          ]
        }
      ]
    },
    {
      "cell_type": "code",
      "source": [
        "test1"
      ],
      "metadata": {
        "colab": {
          "base_uri": "https://localhost:8080/",
          "height": 35
        },
        "id": "kr5-4cC7vYCC",
        "outputId": "b7924158-faf4-43e9-a4be-aa34f232a43c"
      },
      "execution_count": 28,
      "outputs": [
        {
          "output_type": "execute_result",
          "data": {
            "text/plain": [
              "'123'"
            ],
            "application/vnd.google.colaboratory.intrinsic+json": {
              "type": "string"
            }
          },
          "metadata": {},
          "execution_count": 28
        }
      ]
    },
    {
      "cell_type": "code",
      "source": [
        "test1 + 1"
      ],
      "metadata": {
        "colab": {
          "base_uri": "https://localhost:8080/",
          "height": 166
        },
        "id": "E0qTsusFvxEo",
        "outputId": "0990ff1a-04e0-4f19-b6ff-84bfa94f007e"
      },
      "execution_count": 30,
      "outputs": [
        {
          "output_type": "error",
          "ename": "TypeError",
          "evalue": "ignored",
          "traceback": [
            "\u001b[0;31m---------------------------------------------------------------------------\u001b[0m",
            "\u001b[0;31mTypeError\u001b[0m                                 Traceback (most recent call last)",
            "\u001b[0;32m<ipython-input-30-af03b88af3c7>\u001b[0m in \u001b[0;36m<module>\u001b[0;34m()\u001b[0m\n\u001b[0;32m----> 1\u001b[0;31m \u001b[0mtest1\u001b[0m \u001b[0;34m+\u001b[0m \u001b[0;36m1\u001b[0m\u001b[0;34m\u001b[0m\u001b[0;34m\u001b[0m\u001b[0m\n\u001b[0m",
            "\u001b[0;31mTypeError\u001b[0m: can only concatenate str (not \"int\") to str"
          ]
        }
      ]
    },
    {
      "cell_type": "code",
      "source": [
        "print(type(test1))"
      ],
      "metadata": {
        "colab": {
          "base_uri": "https://localhost:8080/"
        },
        "id": "etTOmz3evpiW",
        "outputId": "61d5825d-9189-4f9b-e99e-6469c0fc7ac0"
      },
      "execution_count": 29,
      "outputs": [
        {
          "output_type": "stream",
          "name": "stdout",
          "text": [
            "<class 'str'>\n"
          ]
        }
      ]
    },
    {
      "cell_type": "code",
      "source": [
        "test2 = int(input('輸入'))"
      ],
      "metadata": {
        "colab": {
          "base_uri": "https://localhost:8080/"
        },
        "id": "Y3naBfY6wPDu",
        "outputId": "568d2aed-7433-4114-d246-57e403bf4c93"
      },
      "execution_count": 36,
      "outputs": [
        {
          "name": "stdout",
          "output_type": "stream",
          "text": [
            "輸入123\n"
          ]
        }
      ]
    },
    {
      "cell_type": "code",
      "source": [
        "print(type(test2))"
      ],
      "metadata": {
        "colab": {
          "base_uri": "https://localhost:8080/"
        },
        "id": "7jJcoaOQxQVT",
        "outputId": "ac9b2d3d-8451-431e-96a0-f477a648cdc7"
      },
      "execution_count": 37,
      "outputs": [
        {
          "output_type": "stream",
          "name": "stdout",
          "text": [
            "<class 'int'>\n"
          ]
        }
      ]
    },
    {
      "cell_type": "code",
      "source": [
        "test2 + 1"
      ],
      "metadata": {
        "colab": {
          "base_uri": "https://localhost:8080/"
        },
        "id": "oq1V2Ly8xX4Z",
        "outputId": "0dd400b9-f38e-466c-effc-f32db67b707c"
      },
      "execution_count": 38,
      "outputs": [
        {
          "output_type": "execute_result",
          "data": {
            "text/plain": [
              "124"
            ]
          },
          "metadata": {},
          "execution_count": 38
        }
      ]
    },
    {
      "cell_type": "code",
      "source": [
        "test3 = int(input('請輸入月份'))\n",
        "test4 = int(input('請輸入日期'))"
      ],
      "metadata": {
        "colab": {
          "base_uri": "https://localhost:8080/"
        },
        "id": "Vqg5sOpzxbnh",
        "outputId": "e2e2fa4d-ebd5-4bf3-9078-e9a896a3aa9b"
      },
      "execution_count": 39,
      "outputs": [
        {
          "name": "stdout",
          "output_type": "stream",
          "text": [
            "請輸入月份3\n",
            "請輸入日期21\n"
          ]
        }
      ]
    },
    {
      "cell_type": "code",
      "source": [
        "print('今天是',test3,'月',test4,'號',sep='')"
      ],
      "metadata": {
        "colab": {
          "base_uri": "https://localhost:8080/"
        },
        "id": "4SdHg14ZyNPz",
        "outputId": "62799ae8-e3a1-4a7b-fe9f-9842e24e3fdb"
      },
      "execution_count": 41,
      "outputs": [
        {
          "output_type": "stream",
          "name": "stdout",
          "text": [
            "今天是3月21號\n"
          ]
        }
      ]
    },
    {
      "cell_type": "code",
      "source": [
        "test5 = int(input('請輸入國文成績'))\n",
        "test6 = int(input('請輸入英文成績'))\n",
        "test7 = int(input('請輸入數學成績'))"
      ],
      "metadata": {
        "colab": {
          "base_uri": "https://localhost:8080/"
        },
        "id": "AVqoiV--0Hye",
        "outputId": "ce459825-14bc-4d2c-dee0-37bac8836a50"
      },
      "execution_count": 42,
      "outputs": [
        {
          "name": "stdout",
          "output_type": "stream",
          "text": [
            "請輸入國文成績50\n",
            "請輸入英文成績60\n",
            "請輸入數學成績70\n"
          ]
        }
      ]
    },
    {
      "cell_type": "code",
      "source": [
        "test8 = test5 + test6 + test7"
      ],
      "metadata": {
        "id": "1Z_1TdhN1GKi"
      },
      "execution_count": 43,
      "outputs": []
    },
    {
      "cell_type": "code",
      "source": [
        "print(test8)"
      ],
      "metadata": {
        "colab": {
          "base_uri": "https://localhost:8080/"
        },
        "id": "OTGSyWDW1eOw",
        "outputId": "a0cfb611-a00d-4df9-da43-3650b3bec624"
      },
      "execution_count": 44,
      "outputs": [
        {
          "output_type": "stream",
          "name": "stdout",
          "text": [
            "180\n"
          ]
        }
      ]
    },
    {
      "cell_type": "code",
      "source": [
        "print('你的成績總分為:',test8,sep='\\n')"
      ],
      "metadata": {
        "colab": {
          "base_uri": "https://localhost:8080/"
        },
        "id": "kwZ12iR81j_l",
        "outputId": "51ffc690-f2c8-4317-a32e-3f04b6aa195f"
      },
      "execution_count": 49,
      "outputs": [
        {
          "output_type": "stream",
          "name": "stdout",
          "text": [
            "你的成績總分為:\n",
            "180\n"
          ]
        }
      ]
    }
  ]
}